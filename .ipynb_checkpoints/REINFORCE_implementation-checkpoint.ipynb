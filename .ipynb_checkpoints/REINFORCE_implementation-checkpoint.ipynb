{
 "cells": [
  {
   "cell_type": "markdown",
   "metadata": {
    "colab_type": "text",
    "id": "K6T5bEI4J2r-"
   },
   "source": [
    "https://www.google.com/search?client=ubuntu&channel=fs&q=David+Silver%E2%80%99s+RL+course&ie=utf-8&oe=utf-8\n",
    "\n",
    "https://towardsdatascience.com/an-intuitive-explanation-of-policy-gradient-part-1-reinforce-aa4392cbfd3c\n",
    "\n",
    "https://medium.com/samkirkiles/reinforce-policy-gradients-from-scratch-in-numpy-6a09ae0dfe12\n",
    "\n",
    "https://github.com/MartinThoma/banana-gym"
   ]
  },
  {
   "cell_type": "code",
   "execution_count": 1,
   "metadata": {
    "colab": {},
    "colab_type": "code",
    "id": "2C6I5PdcOxeG"
   },
   "outputs": [],
   "source": [
    "#!/usr/bin/env python\n",
    "# -*- coding: utf-8 -*-\n",
    "\n",
    "\"\"\"\n",
    "Simulate the simplifie Banana selling environment.\n",
    "Each episode is selling a single banana.\n",
    "\"\"\"\n",
    "\n",
    "# core modules\n",
    "import logging.config\n",
    "import math\n",
    "import pkg_resources\n",
    "import random\n",
    "\n",
    "# 3rd party modules\n",
    "from gym import spaces\n",
    "import gym\n",
    "import numpy as np\n",
    "\n",
    "\n",
    "#path = 'config.yaml'  # always use slash in packages\n",
    "#filepath = pkg_resources.resource_filename('gym_banana', path)\n",
    "#config = cfg_load.load(filepath)\n",
    "#logging.config.dictConfig(config['LOGGING'])\n",
    "\n",
    "\n",
    "def get_chance(x):\n",
    "    \"\"\"Get probability that a banana will be sold at price x.\"\"\"\n",
    "    e = math.exp(1)\n",
    "    return (1.0 + e) / (1. + math.exp(x + 1))\n",
    "\n",
    "\n",
    "class BananaEnv(gym.Env):\n",
    "    \"\"\"\n",
    "    Define a simple Banana environment.\n",
    "    The environment defines which actions can be taken at which point and\n",
    "    when the agent receives which reward.\n",
    "    \"\"\"\n",
    "\n",
    "    def __init__(self):\n",
    "        self.__version__ = \"0.1.0\"\n",
    "        logging.info(\"BananaEnv - Version {}\".format(self.__version__))\n",
    "\n",
    "        # General variables defining the environment\n",
    "        self.MAX_PRICE = 3.0\n",
    "        self.TOTAL_TIME_STEPS = 2\n",
    "\n",
    "        self.curr_step = -1\n",
    "        self.is_banana_sold = False\n",
    "\n",
    "        # Define what the agent can do\n",
    "        # Sell at 0.00 EUR, 0.10 Euro, ..., 2.00 Euro\n",
    "        self.action_space = spaces.Discrete(21)\n",
    "\n",
    "        # Observation is the remaining time\n",
    "        low = np.array([0.0,  # remaining_tries\n",
    "                        ])\n",
    "        high = np.array([self.TOTAL_TIME_STEPS,  # remaining_tries\n",
    "                         ])\n",
    "        self.observation_space = spaces.Box(low, high, dtype=np.float32)\n",
    "\n",
    "        # Store what the agent tried\n",
    "        self.curr_episode = -1\n",
    "        self.action_episode_memory = []\n",
    "\n",
    "    def step(self, action):\n",
    "        \"\"\"\n",
    "        The agent takes a step in the environment.\n",
    "        Parameters\n",
    "        ----------\n",
    "        action : int\n",
    "        Returns\n",
    "        -------\n",
    "        ob, reward, episode_over, info : tuple\n",
    "            ob (object) :\n",
    "                an environment-specific object representing your observation of\n",
    "                the environment.\n",
    "            reward (float) :\n",
    "                amount of reward achieved by the previous action. The scale\n",
    "                varies between environments, but the goal is always to increase\n",
    "                your total reward.\n",
    "            episode_over (bool) :\n",
    "                whether it's time to reset the environment again. Most (but not\n",
    "                all) tasks are divided up into well-defined episodes, and done\n",
    "                being True indicates the episode has terminated. (For example,\n",
    "                perhaps the pole tipped too far, or you lost your last life.)\n",
    "            info (dict) :\n",
    "                 diagnostic information useful for debugging. It can sometimes\n",
    "                 be useful for learning (for example, it might contain the raw\n",
    "                 probabilities behind the environment's last state change).\n",
    "                 However, official evaluations of your agent are not allowed to\n",
    "                 use this for learning.\n",
    "        \"\"\"\n",
    "        if self.is_banana_sold:\n",
    "            raise RuntimeError(\"Episode is done\")\n",
    "        self.curr_step += 1\n",
    "        self._take_action(action)\n",
    "        reward = self._get_reward()\n",
    "        ob = self._get_state()\n",
    "        return ob, reward, self.is_banana_sold, {}\n",
    "\n",
    "    def _take_action(self, action):\n",
    "        self.action_episode_memory[self.curr_episode].append(action)\n",
    "        self.price = ((float(self.MAX_PRICE) /\n",
    "                      (self.action_space.n - 1)) * action)\n",
    "\n",
    "        chance_to_take = get_chance(self.price)\n",
    "        banana_is_sold = (random.random() < chance_to_take)\n",
    "\n",
    "        if banana_is_sold:\n",
    "            self.is_banana_sold = True\n",
    "\n",
    "        remaining_steps = self.TOTAL_TIME_STEPS - self.curr_step\n",
    "        time_is_over = (remaining_steps <= 0)\n",
    "        throw_away = time_is_over and not self.is_banana_sold\n",
    "        if throw_away:\n",
    "            self.is_banana_sold = True  # abuse this a bit\n",
    "            self.price = 0.0\n",
    "\n",
    "    def _get_reward(self):\n",
    "        \"\"\"Reward is given for a sold banana.\"\"\"\n",
    "        if self.is_banana_sold:\n",
    "            return self.price - 1\n",
    "        else:\n",
    "            return 0.0\n",
    "\n",
    "    def reset(self):\n",
    "        \"\"\"\n",
    "        Reset the state of the environment and returns an initial observation.\n",
    "        Returns\n",
    "        -------\n",
    "        observation (object): the initial observation of the space.\n",
    "        \"\"\"\n",
    "        self.curr_step = -1\n",
    "        self.curr_episode += 1\n",
    "        self.action_episode_memory.append([])\n",
    "        self.is_banana_sold = False\n",
    "        self.price = 1.00\n",
    "        return self._get_state()\n",
    "\n",
    "    def _render(self, mode='human', close=False):\n",
    "        return\n",
    "\n",
    "    def _get_state(self):\n",
    "        \"\"\"Get the observation.\"\"\"\n",
    "        ob = [self.TOTAL_TIME_STEPS - self.curr_step]\n",
    "        return np.array(ob)\n",
    "\n",
    "    def seed(self, seed):\n",
    "        random.seed(seed)\n",
    "        np.random.seed"
   ]
  },
  {
   "cell_type": "code",
   "execution_count": 2,
   "metadata": {
    "colab": {},
    "colab_type": "code",
    "id": "JxKa2aK3QUnW"
   },
   "outputs": [],
   "source": [
    "#Hyperparameters\n",
    "NUM_EPISODES = 50000\n",
    "LEARNING_RATE = 0.0025\n",
    "GAMMA = 0.99"
   ]
  },
  {
   "cell_type": "code",
   "execution_count": 3,
   "metadata": {
    "colab": {
     "base_uri": "https://localhost:8080/",
     "height": 52
    },
    "colab_type": "code",
    "id": "z08LuCyvJM1K",
    "outputId": "ebe61e28-1afc-4e35-d469-a67828927519"
   },
   "outputs": [
    {
     "name": "stderr",
     "output_type": "stream",
     "text": [
      "/home/nata/my_projects/gym/gym/logger.py:30: UserWarning: \u001b[33mWARN: Box bound precision lowered by casting to float32\u001b[0m\n",
      "  warnings.warn(colorize('%s: %s'%('WARN', msg % args), 'yellow'))\n"
     ]
    }
   ],
   "source": [
    "import gym\n",
    "import numpy as np\n",
    "import matplotlib.pyplot as plt\n",
    "import copy \n",
    "\n",
    "\n",
    "# Create gym and seed numpy\n",
    "env = gym.make('CartPole-v0') # BananaEnv()  #\n",
    "nA = env.action_space.n\n",
    "np.random.seed(1)\n",
    "\n",
    "# Init weight\n",
    "w = np.random.rand(env.observation_space.shape[0], env.action_space.n)\n",
    "\n",
    "# Keep stats for final print of graph\n",
    "episode_rewards = []\n",
    "\n",
    "# Our policy that maps state to action parameterized by w\n",
    "def policy(state,w):\n",
    "    z = state.dot(w)\n",
    "    exp = np.exp(z)\n",
    "    return exp/np.sum(exp)\n",
    "\n",
    "# Vectorized softmax Jacobian\n",
    "def softmax_grad(softmax):\n",
    "    s = softmax.reshape(-1,1)\n",
    "    return np.diagflat(s) - np.dot(s, s.T)"
   ]
  },
  {
   "cell_type": "code",
   "execution_count": 4,
   "metadata": {
    "colab": {
     "base_uri": "https://localhost:8080/",
     "height": 34
    },
    "colab_type": "code",
    "id": "Lm4GlODUPE1j",
    "outputId": "fed42d08-b7e8-431a-94a9-489fd952435a"
   },
   "outputs": [
    {
     "data": {
      "text/plain": [
       "(4, 2)"
      ]
     },
     "execution_count": 4,
     "metadata": {},
     "output_type": "execute_result"
    }
   ],
   "source": [
    "env.observation_space.shape[0], env.action_space.n"
   ]
  },
  {
   "cell_type": "code",
   "execution_count": 5,
   "metadata": {
    "colab": {},
    "colab_type": "code",
    "id": "07TW0FFZJMy5"
   },
   "outputs": [],
   "source": [
    "# One episode\n",
    "\n",
    "state = env.reset()[None,:]\n",
    "\n",
    "grads = []\n",
    "rewards = []\n",
    "\n",
    "# Keep track of game score to print\n",
    "score = 0"
   ]
  },
  {
   "cell_type": "code",
   "execution_count": 6,
   "metadata": {
    "colab": {},
    "colab_type": "code",
    "id": "Sv1ANqfpP692"
   },
   "outputs": [],
   "source": [
    "# Sample from policy and take action in environment\n",
    "probs = policy(state,w)\n",
    "action = np.random.choice(nA,p=probs[0])\n",
    "next_state,reward,done,_ = env.step(action)\n",
    "next_state = next_state[None,:]\n",
    "\n",
    "# Compute gradient and save with reward in memory for our weight updates\n",
    "dsoftmax = softmax_grad(probs)[action,:]\n",
    "dlog = dsoftmax / probs[0,action]\n",
    "grad = state.T.dot(dlog[None,:])\n",
    "\n",
    "grads.append(grad)\n",
    "rewards.append(reward)\n",
    "\n",
    "score+=reward\n",
    "\n",
    "# Dont forget to update your old state to the new state\n",
    "state = next_state"
   ]
  },
  {
   "cell_type": "code",
   "execution_count": 7,
   "metadata": {
    "colab": {
     "base_uri": "https://localhost:8080/",
     "height": 104
    },
    "colab_type": "code",
    "id": "I8vuTgI5JMt5",
    "outputId": "3c94b22c-3161-4371-be56-8f124a3c2b7c"
   },
   "outputs": [
    {
     "data": {
      "text/plain": [
       "array([[0.50035464, 0.49964536]])"
      ]
     },
     "execution_count": 7,
     "metadata": {},
     "output_type": "execute_result"
    }
   ],
   "source": [
    "probs"
   ]
  },
  {
   "cell_type": "code",
   "execution_count": 8,
   "metadata": {
    "colab": {
     "base_uri": "https://localhost:8080/",
     "height": 104
    },
    "colab_type": "code",
    "id": "rRWlRZL9JMq_",
    "outputId": "3a17a0af-acc0-4ca9-ea62-72d6fb68bb1f"
   },
   "outputs": [
    {
     "data": {
      "text/plain": [
       "[array([[-0.02147417,  0.02147417],\n",
       "        [ 0.01889464, -0.01889464],\n",
       "        [ 0.00140963, -0.00140963],\n",
       "        [ 0.00107213, -0.00107213]])]"
      ]
     },
     "execution_count": 8,
     "metadata": {},
     "output_type": "execute_result"
    }
   ],
   "source": [
    "grads"
   ]
  },
  {
   "cell_type": "code",
   "execution_count": 9,
   "metadata": {
    "colab": {
     "base_uri": "https://localhost:8080/",
     "height": 34
    },
    "colab_type": "code",
    "id": "F--CheA5QsrD",
    "outputId": "dc2179b2-90cf-4758-d823-95715a161f39"
   },
   "outputs": [
    {
     "data": {
      "text/plain": [
       "array([[2]])"
      ]
     },
     "execution_count": 9,
     "metadata": {
      "tags": []
     },
     "output_type": "execute_result"
    }
   ],
   "source": [
    "state"
   ]
  },
  {
   "cell_type": "code",
   "execution_count": 0,
   "metadata": {
    "colab": {},
    "colab_type": "code",
    "id": "jZNcmIfTF2BM"
   },
   "outputs": [],
   "source": [
    "# Main loop \n",
    "# Make sure you update your weights AFTER each episode\n",
    "for e in range(NUM_EPISODES):\n",
    "\n",
    "\t\tstate = env.reset()[None,:]\n",
    "\n",
    "\t\tgrads = []\t\n",
    "\t\trewards = []\n",
    "\n",
    "\t\t# Keep track of game score to print\n",
    "\t\tscore = 0\n",
    "\n",
    "\t\twhile True:\n",
    "\n",
    "\t\t\t\t# Uncomment to see your model train in real time (slower)\n",
    "\t\t\t\t#env.render()\n",
    "\n",
    "\t\t\t\t# Sample from policy and take action in environment\n",
    "\t\t\t\tprobs = policy(state,w)\n",
    "\t\t\t\taction = np.random.choice(nA,p=probs[0])\n",
    "\t\t\t\tnext_state,reward,done,_ = env.step(action)\n",
    "\t\t\t\tnext_state = next_state[None,:]\n",
    "\n",
    "\t\t\t\t# Compute gradient and save with reward in memory for our weight updates\n",
    "\t\t\t\tdsoftmax = softmax_grad(probs)[action,:]\n",
    "\t\t\t\tdlog = dsoftmax / probs[0,action]\n",
    "\t\t\t\tgrad = state.T.dot(dlog[None,:])\n",
    "\n",
    "\t\t\t\tgrads.append(grad)\n",
    "\t\t\t\trewards.append(reward)\t\t\n",
    "\n",
    "\t\t\t\tscore+=reward\n",
    "\n",
    "\t\t\t\t# Dont forget to update your old state to the new state\n",
    "\t\t\t\tstate = next_state\n",
    "\n",
    "\t\t\t\tif done:\n",
    "\t\t\t\t\t\tbreak\n",
    "\n",
    "\t\t# Weight update\n",
    "\t\tfor i in range(len(grads)):\n",
    "\n",
    "\t\t\t\t# Loop through everything that happend in the episode and update towards the log policy gradient times **FUTURE** reward\n",
    "\t\t\t\tw += LEARNING_RATE * grads[i] * sum([ r * (GAMMA ** r) for t,r in enumerate(rewards[i:])])\n",
    "\t\t\n",
    "\t\t# Append for logging and print\n",
    "\t\tepisode_rewards.append(score)\n",
    "\t\tprint(\"EP: \" + str(e) + \" Score: \" + str(score)) "
   ]
  },
  {
   "cell_type": "code",
   "execution_count": 20,
   "metadata": {
    "colab": {
     "base_uri": "https://localhost:8080/",
     "height": 483
    },
    "colab_type": "code",
    "id": "3CIAeG2UG9Pb",
    "outputId": "9254a114-4fd4-409a-a9bb-20b3c636fb1c"
   },
   "outputs": [
    {
     "data": {
      "image/png": "[encoded data removed]",
      "text/plain": [
       "<Figure size 1080x576 with 1 Axes>"
      ]
     },
     "metadata": {
      "tags": []
     },
     "output_type": "display_data"
    }
   ],
   "source": [
    "from scipy.signal import savgol_filter\n",
    "\n",
    "plt.figure(figsize = (15,8))\n",
    "plt.plot(np.arange(NUM_EPISODES),savgol_filter(episode_rewards, 51, 3))\n",
    "plt.show()\n",
    "env.close()"
   ]
  },
  {
   "cell_type": "code",
   "execution_count": 0,
   "metadata": {
    "colab": {},
    "colab_type": "code",
    "id": "0dwFn1_eLPZE"
   },
   "outputs": [],
   "source": []
  }
 ],
 "metadata": {
  "colab": {
   "collapsed_sections": [],
   "name": "Algebra Project.ipynb",
   "provenance": []
  },
  "kernelspec": {
   "display_name": "Python 3",
   "language": "python",
   "name": "python3"
  },
  "language_info": {
   "codemirror_mode": {
    "name": "ipython",
    "version": 3
   },
   "file_extension": ".py",
   "mimetype": "text/x-python",
   "name": "python",
   "nbconvert_exporter": "python",
   "pygments_lexer": "ipython3",
   "version": "3.6.9"
  }
 },
 "nbformat": 4,
 "nbformat_minor": 1
}
